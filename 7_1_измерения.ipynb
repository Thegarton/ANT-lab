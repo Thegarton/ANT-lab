{
 "cells": [
  {
   "cell_type": "code",
   "execution_count": 3,
   "id": "49be92c4-a365-4c62-afb9-ee0dbd6223c6",
   "metadata": {},
   "outputs": [
    {
     "name": "stdout",
     "output_type": "stream",
     "text": [
      "Defaulting to user installation because normal site-packages is not writeable\n",
      "Collecting RPi.GPIO\n",
      "  Downloading RPi.GPIO-0.7.1.tar.gz (29 kB)\n",
      "  Preparing metadata (setup.py) ... \u001b[?25ldone\n",
      "\u001b[?25hBuilding wheels for collected packages: RPi.GPIO\n",
      "  Building wheel for RPi.GPIO (setup.py) ... \u001b[?25ldone\n",
      "\u001b[?25h  Created wheel for RPi.GPIO: filename=RPi.GPIO-0.7.1-cp310-cp310-linux_x86_64.whl size=71732 sha256=2f3d1760456e97089657e32a11a2a9251d5d75075641f24e06401d0b04d94bde\n",
      "  Stored in directory: /home/sruwer/.cache/pip/wheels/01/87/cc/db7d6af3c88be9bf050abd43a7e63ae99c93a678fd9e00addd\n",
      "Successfully built RPi.GPIO\n",
      "Installing collected packages: RPi.GPIO\n",
      "Successfully installed RPi.GPIO-0.7.1\n",
      "Note: you may need to restart the kernel to use updated packages.\n"
     ]
    }
   ],
   "source": [
    "pip install RPi.GPIO"
   ]
  },
  {
   "cell_type": "code",
   "execution_count": 5,
   "id": "2c4ad19d-de04-4531-8df0-e46dc94bad25",
   "metadata": {},
   "outputs": [
    {
     "ename": "RuntimeError",
     "evalue": "This module can only be run on a Raspberry Pi!",
     "output_type": "error",
     "traceback": [
      "\u001b[0;31m---------------------------------------------------------------------------\u001b[0m",
      "\u001b[0;31mRuntimeError\u001b[0m                              Traceback (most recent call last)",
      "Cell \u001b[0;32mIn[5], line 1\u001b[0m\n\u001b[0;32m----> 1\u001b[0m \u001b[38;5;28;01mimport\u001b[39;00m \u001b[38;5;21;01mRPi\u001b[39;00m\u001b[38;5;21;01m.\u001b[39;00m\u001b[38;5;21;01mGPIO\u001b[39;00m \u001b[38;5;28;01mas\u001b[39;00m \u001b[38;5;21;01mGPIO\u001b[39;00m\n\u001b[1;32m      2\u001b[0m \u001b[38;5;28;01mimport\u001b[39;00m \u001b[38;5;21;01mtime\u001b[39;00m\n\u001b[1;32m      3\u001b[0m \u001b[38;5;28;01mimport\u001b[39;00m \u001b[38;5;21;01mnumpy\u001b[39;00m\n",
      "File \u001b[0;32m~/.local/lib/python3.10/site-packages/RPi/GPIO/__init__.py:23\u001b[0m\n\u001b[1;32m      1\u001b[0m \u001b[38;5;66;03m# Copyright (c) 2012-2021 Ben Croston\u001b[39;00m\n\u001b[1;32m      2\u001b[0m \u001b[38;5;66;03m#\u001b[39;00m\n\u001b[1;32m      3\u001b[0m \u001b[38;5;66;03m# Permission is hereby granted, free of charge, to any person obtaining a copy of\u001b[39;00m\n\u001b[0;32m   (...)\u001b[0m\n\u001b[1;32m     18\u001b[0m \u001b[38;5;66;03m# OUT OF OR IN CONNECTION WITH THE SOFTWARE OR THE USE OR OTHER DEALINGS IN THE\u001b[39;00m\n\u001b[1;32m     19\u001b[0m \u001b[38;5;66;03m# SOFTWARE.\u001b[39;00m\n\u001b[1;32m     21\u001b[0m \u001b[38;5;124;03m\"\"\"This package provides a Python module to control the GPIO on a Raspberry Pi\"\"\"\u001b[39;00m\n\u001b[0;32m---> 23\u001b[0m \u001b[38;5;28;01mfrom\u001b[39;00m \u001b[38;5;21;01mRPi\u001b[39;00m\u001b[38;5;21;01m.\u001b[39;00m\u001b[38;5;21;01m_GPIO\u001b[39;00m \u001b[38;5;28;01mimport\u001b[39;00m \u001b[38;5;241m*\u001b[39m\n\u001b[1;32m     25\u001b[0m VERSION \u001b[38;5;241m=\u001b[39m \u001b[38;5;124m'\u001b[39m\u001b[38;5;124m0.7.1\u001b[39m\u001b[38;5;124m'\u001b[39m\n",
      "\u001b[0;31mRuntimeError\u001b[0m: This module can only be run on a Raspberry Pi!"
     ]
    }
   ],
   "source": [
    "import RPi.GPIO as GPIO\n",
    "import time\n",
    "import numpy\n",
    "import matplotlib.pyplot as plt\n",
    "import datetime\n",
    "\n",
    "def todecimal(a):\n",
    "    return [int(x) for x in bin(a)[2:].zfill(8)]\n",
    "    \n",
    "def abc(num):\n",
    "    return num/256 * 3.3\n",
    "\n",
    "def num(l):\n",
    "    s = (''.join(map(str,l)))\n",
    "    return int(str(s),2)\n",
    "\n",
    "def leds_sig(a):\n",
    "    n = int(a/3.3*8)\n",
    "    arr = [0, 0, 0, 0, 0, 0, 0, 0]\n",
    "    while(n >= 0):\n",
    "        arr[n]=1\n",
    "        n-=1\n",
    "    #print(arr)\n",
    "    return arr[::-1]\n",
    "DAC  = [8, 11, 7, 1, 0, 5, 12 ,6]\n",
    "LED = [2,3,4,17,27,22,10,9]\n",
    "comp = 14\n",
    "troyka = 13 \n",
    "GPIO.setmode(GPIO.BCM)\n",
    "\n",
    "GPIO.setup(comp, GPIO.IN)\n",
    "GPIO.setup(troyka, GPIO.OUT, initial = GPIO.HIGH)\n",
    "GPIO.setup(DAC, GPIO.OUT, initial=GPIO.LOW)\n",
    "GPIO.setup(LED, GPIO.OUT, initial=GPIO.LOW)\n",
    "\n",
    "data = []\n",
    "\n",
    "flag = False\n",
    "begin = datetime.now()\n",
    "end = datetime.now()\n",
    "\n",
    "print('start of experement', begin)\n",
    "try:\n",
    "    with open('data.txt', 'w+') as f:\n",
    "        while(True):\n",
    "            signal = [0, 0, 0, 0, 0, 0, 0, 0]\n",
    "            for i in range(8): \n",
    "                signal_temp = [g for g in signal]\n",
    "                signal_temp[i] = 1\n",
    "                value = GPIO.output(DAC, signal_temp)\n",
    "                time.sleep(0.05)\n",
    "                read_comp = GPIO.input(comp)\n",
    "                if read_comp == 0:\n",
    "                    signal = signal_temp\n",
    "            print(\"entered value {:^3} -> valtage {:.2f}, DAC signal {}\".format(num(signal), abc(num(signal)), signal))    \n",
    "            f.write(str(num(signal))+'\\n')\n",
    "            data.append(num(signal))\n",
    "            if num(signal) == 208:\n",
    "                flag = True\n",
    "                GPIO.setup(troyka, GPIO.OUT, initial = GPIO.LOW)\n",
    "            if flag and num(signal) <= 168:\n",
    "                end = datetime.now()\n",
    "                break\n",
    "        GPIO.output(LED, leds_sig(abc(num(signal))))\n",
    "finally:\n",
    "    GPIO.cleanup()\n",
    "\n",
    "#запись данных конфигурации \n",
    "cnt = len(data)\n",
    "time_of_experement = end - begin\n",
    "seconds = time_of_experement.total_seconds()\n",
    "T = seconds/cnt\n",
    "frec = 1/T\n",
    "step = 3.3/256\n",
    "\n",
    "#постройка схематичного графика\n",
    "x_time = np.arange(0, seconds, T)\n",
    "plt.plot(x_time, data)\n",
    "\n",
    "#запсиь в конфигурации в файл\n",
    "with open('settings.txt', 'w+') as f:\n",
    "    f.write(str(frec) + '\\n')\n",
    "    f.write(str(step) + '\\n')\n",
    "\n",
    "# вывод в данных в консоль\n",
    "print('duration', seconds)\n",
    "print('period', T)\n",
    "print('frec', frec)\n",
    "print('step', step)"
   ]
  },
  {
   "cell_type": "code",
   "execution_count": null,
   "id": "e3cc5435-e7ee-4e24-91a1-85bf890529c0",
   "metadata": {},
   "outputs": [],
   "source": []
  }
 ],
 "metadata": {
  "kernelspec": {
   "display_name": "Python 3 (ipykernel)",
   "language": "python",
   "name": "python3"
  },
  "language_info": {
   "codemirror_mode": {
    "name": "ipython",
    "version": 3
   },
   "file_extension": ".py",
   "mimetype": "text/x-python",
   "name": "python",
   "nbconvert_exporter": "python",
   "pygments_lexer": "ipython3",
   "version": "3.10.12"
  }
 },
 "nbformat": 4,
 "nbformat_minor": 5
}
